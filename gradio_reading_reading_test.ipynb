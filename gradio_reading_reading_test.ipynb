{
  "nbformat": 4,
  "nbformat_minor": 0,
  "metadata": {
    "colab": {
      "provenance": [],
      "authorship_tag": "ABX9TyOpZldvOhU68PFsxb/cYHcG",
      "include_colab_link": true
    },
    "kernelspec": {
      "name": "python3",
      "display_name": "Python 3"
    },
    "language_info": {
      "name": "python"
    }
  },
  "cells": [
    {
      "cell_type": "markdown",
      "metadata": {
        "id": "view-in-github",
        "colab_type": "text"
      },
      "source": [
        "<a href=\"https://colab.research.google.com/github/chihchao/science_reading/blob/main/gradio_reading_reading_test.ipynb\" target=\"_parent\"><img src=\"https://colab.research.google.com/assets/colab-badge.svg\" alt=\"Open In Colab\"/></a>"
      ]
    },
    {
      "cell_type": "code",
      "execution_count": null,
      "metadata": {
        "id": "kn6TfBai98Vg"
      },
      "outputs": [],
      "source": [
        "pip install -q gradio\n"
      ]
    },
    {
      "cell_type": "code",
      "source": [
        "import gradio as gr\n",
        "\n",
        "# 模擬帳號密碼\n",
        "VALID_USERS = {\n",
        "    \"user1\": \"pass1\",\n",
        "    \"user2\": \"pass2\"\n",
        "}\n",
        "\n",
        "# 登入驗證\n",
        "def login(username, password, session):\n",
        "    if username in VALID_USERS and VALID_USERS[username] == password:\n",
        "        session[\"logged_in\"] = True\n",
        "        return gr.update(visible=False), gr.update(visible=True), session\n",
        "    else:\n",
        "        return gr.update(visible=True, value=\"登入失敗，請重新輸入。\"), gr.update(visible=False), session\n",
        "\n",
        "# 顯示文章頁\n",
        "def next_to_article(session):\n",
        "    if session.get(\"logged_in\"):\n",
        "        return gr.update(visible=False), gr.update(visible=True)\n",
        "    else:\n",
        "        return gr.update(visible=True), gr.update(visible=False)\n",
        "\n",
        "# 前往第三頁\n",
        "def go_next():\n",
        "    return gr.update(visible=False), gr.update(visible=True)\n",
        "\n",
        "with gr.Blocks() as demo:\n",
        "    session = gr.State({})\n",
        "\n",
        "    # 登入頁面\n",
        "    with gr.Column(visible=True) as login_page:\n",
        "        gr.Markdown(\"### 請輸入帳號與密碼\")\n",
        "        username = gr.Textbox(label=\"帳號\")\n",
        "        password = gr.Textbox(label=\"密碼\", type=\"password\")\n",
        "        login_btn = gr.Button(\"登入\")\n",
        "        login_msg = gr.Textbox(label=\"\", interactive=False, visible=False)\n",
        "\n",
        "    # 第二頁：文章頁\n",
        "    with gr.Column(visible=False) as article_page:\n",
        "        gr.Markdown(\"### 這是一篇文章\\n\\n這裡是文章的內容。\")\n",
        "        next_btn = gr.Button(\"下一頁\")\n",
        "\n",
        "    # 第三頁\n",
        "    with gr.Column(visible=False) as final_page:\n",
        "        gr.Markdown(\"### 您已進入下一頁！\")\n",
        "\n",
        "    # 事件綁定\n",
        "    login_btn.click(login, inputs=[username, password, session], outputs=[login_page, article_page, session])\n",
        "    next_btn.click(go_next, outputs=[article_page, final_page])\n",
        "\n",
        "demo.launch()\n"
      ],
      "metadata": {
        "colab": {
          "base_uri": "https://localhost:8080/",
          "height": 646
        },
        "id": "V2Poyvc--Bwf",
        "outputId": "5be74693-c65f-420b-c5a3-4b2ed427440b"
      },
      "execution_count": null,
      "outputs": [
        {
          "output_type": "stream",
          "name": "stdout",
          "text": [
            "It looks like you are running Gradio on a hosted a Jupyter notebook. For the Gradio app to work, sharing must be enabled. Automatically setting `share=True` (you can turn this off by setting `share=False` in `launch()` explicitly).\n",
            "\n",
            "Colab notebook detected. To show errors in colab notebook, set debug=True in launch()\n",
            "* Running on public URL: https://e7d048aa5d4bfc37dd.gradio.live\n",
            "\n",
            "This share link expires in 1 week. For free permanent hosting and GPU upgrades, run `gradio deploy` from the terminal in the working directory to deploy to Hugging Face Spaces (https://huggingface.co/spaces)\n"
          ]
        },
        {
          "output_type": "display_data",
          "data": {
            "text/plain": [
              "<IPython.core.display.HTML object>"
            ],
            "text/html": [
              "<div><iframe src=\"https://e7d048aa5d4bfc37dd.gradio.live\" width=\"100%\" height=\"500\" allow=\"autoplay; camera; microphone; clipboard-read; clipboard-write;\" frameborder=\"0\" allowfullscreen></iframe></div>"
            ]
          },
          "metadata": {}
        },
        {
          "output_type": "execute_result",
          "data": {
            "text/plain": []
          },
          "metadata": {},
          "execution_count": 3
        }
      ]
    },
    {
      "cell_type": "code",
      "source": [
        "import gradio as gr\n",
        "\n",
        "VALID_USERS = {\n",
        "    \"user1\": \"pass1\",\n",
        "    \"user2\": \"pass2\"\n",
        "}\n",
        "\n",
        "def login(username, password, session):\n",
        "    if username in VALID_USERS and VALID_USERS[username] == password:\n",
        "        session[\"logged_in\"] = True\n",
        "        return gr.update(visible=False), gr.update(visible=False), gr.update(visible=True), session\n",
        "    else:\n",
        "        return gr.update(value=\"登入失敗，請重新輸入。\", visible=True), gr.update(visible=True), gr.update(visible=False), session\n",
        "\n",
        "def go_next():\n",
        "    return gr.update(visible=False), gr.update(visible=True)\n",
        "\n",
        "with gr.Blocks() as demo:\n",
        "    session = gr.State({})\n",
        "\n",
        "    # 登入頁面\n",
        "    with gr.Column(visible=True) as login_page:\n",
        "        gr.Markdown(\"### 請輸入帳號與密碼\")\n",
        "        username = gr.Textbox(label=\"帳號\")\n",
        "        password = gr.Textbox(label=\"密碼\", type=\"password\")\n",
        "        login_btn = gr.Button(\"登入\")\n",
        "        login_msg = gr.Textbox(label=\"\", interactive=False, visible=False)\n",
        "\n",
        "    # 第二頁：文章頁\n",
        "    with gr.Column(visible=False) as article_page:\n",
        "        gr.Markdown(\"### 這是一篇文章\\n\\n這裡是文章的內容。\")\n",
        "        next_btn = gr.Button(\"下一頁\")\n",
        "\n",
        "    # 第三頁\n",
        "    with gr.Column(visible=False) as final_page:\n",
        "        gr.Markdown(\"### 您已進入下一頁！\")\n",
        "\n",
        "    # 登入按鈕綁定：成功後隱藏登入頁，顯示文章頁\n",
        "    login_btn.click(\n",
        "        login,\n",
        "        inputs=[username, password, session],\n",
        "        outputs=[login_msg, login_page, article_page, session]\n",
        "    )\n",
        "\n",
        "    # 下一頁按鈕綁定：從文章頁轉到下一頁\n",
        "    next_btn.click(\n",
        "        go_next,\n",
        "        outputs=[article_page, final_page]\n",
        "    )\n",
        "\n",
        "demo.launch()\n"
      ],
      "metadata": {
        "colab": {
          "base_uri": "https://localhost:8080/",
          "height": 646
        },
        "id": "ZP5x5z-gMktM",
        "outputId": "9cdac44b-7824-4e40-96b0-34589eb58666"
      },
      "execution_count": null,
      "outputs": [
        {
          "output_type": "stream",
          "name": "stdout",
          "text": [
            "It looks like you are running Gradio on a hosted a Jupyter notebook. For the Gradio app to work, sharing must be enabled. Automatically setting `share=True` (you can turn this off by setting `share=False` in `launch()` explicitly).\n",
            "\n",
            "Colab notebook detected. To show errors in colab notebook, set debug=True in launch()\n",
            "* Running on public URL: https://6076562b323021ae04.gradio.live\n",
            "\n",
            "This share link expires in 1 week. For free permanent hosting and GPU upgrades, run `gradio deploy` from the terminal in the working directory to deploy to Hugging Face Spaces (https://huggingface.co/spaces)\n"
          ]
        },
        {
          "output_type": "display_data",
          "data": {
            "text/plain": [
              "<IPython.core.display.HTML object>"
            ],
            "text/html": [
              "<div><iframe src=\"https://6076562b323021ae04.gradio.live\" width=\"100%\" height=\"500\" allow=\"autoplay; camera; microphone; clipboard-read; clipboard-write;\" frameborder=\"0\" allowfullscreen></iframe></div>"
            ]
          },
          "metadata": {}
        },
        {
          "output_type": "execute_result",
          "data": {
            "text/plain": []
          },
          "metadata": {},
          "execution_count": 6
        }
      ]
    }
  ]
}